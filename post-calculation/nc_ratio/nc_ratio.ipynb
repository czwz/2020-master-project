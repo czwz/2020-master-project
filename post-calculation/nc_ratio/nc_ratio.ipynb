{
 "cells": [
  {
   "cell_type": "code",
   "execution_count": 42,
   "metadata": {},
   "outputs": [],
   "source": [
    "import numpy as np\n",
    "import matplotlib.pyplot as plt\n",
    "\n",
    "def compute_nc_ratio(filename):\n",
    "    \"\"\"\n",
    "    The file format for input (raw native contacts) should be \n",
    "    \n",
    "    number-of-indices\n",
    "    timeframe ref-index contact-index-1 contact-index-2 contact-index-3 ...\n",
    "    timeframe ref-index contact-index-1 contact-index-2 contact-index-3 ...\n",
    "    timeframe ref-index contact-index-1 contact-index-2 contact-index-3 ...\n",
    "    ...\n",
    "    \n",
    "    It calculates the time evolution of overall native contact ratio R = NC(t)/NC(t0),\n",
    "    where NC stands for total number of native contacts; returns a np.array of time \n",
    "    series of contact ratio.\n",
    "    \"\"\"\n",
    "    with open(filename, 'r') as f:\n",
    "        lines = f.readlines()\n",
    "\n",
    "        data = {}\n",
    "        data[\"num_indices\"] = int(lines[0])\n",
    "        data[\"num_frame\"] = (len(lines)-1)//data[\"num_indices\"]\n",
    "        data[\"dt\"] = int(lines[1+data[\"num_indices\"]].split()[0]) - int(lines[1][0])\n",
    "        data[\"contact_indices\"] = []\n",
    "\n",
    "        for line in lines:\n",
    "            line_split = line.split()\n",
    "            if len(line_split) > 1:\n",
    "                contacts_each_index = np.array([int(i) for i in line_split[2:]])\n",
    "                data[\"contact_indices\"].append( contacts_each_index )\n",
    "\n",
    "    initial_contacts=np.sum( [len(i) for i in data[\"contact_indices\"][0:data[\"num_indices\"]]] )\n",
    "\n",
    "    nc_ratio = np.full(shape=(data[\"num_frame\"],2), fill_value=1.)\n",
    "    for frame in range(data[\"num_frame\"]):\n",
    "        nc_ratio[frame][0]=frame*data[\"dt\"]\n",
    "        for index in range(data[\"num_indices\"]):\n",
    "            for i in data[\"contact_indices\"][index]:\n",
    "                if i not in data[\"contact_indices\"][frame*data[\"num_indices\"]+index]:\n",
    "                     nc_ratio[frame][1]-=1/initial_contacts\n",
    "    return nc_ratio\n",
    "\n",
    "def output_nc_ratio(filename, nc_ratio):\n",
    "    with open(filename, 'w') as f:\n",
    "        for i in range(len(nc_ratio)):\n",
    "            f.write(str(nc_ratio[i][0]) + \" \" + str(nc_ratio[i][1]) + \"\\n\")"
   ]
  },
  {
   "cell_type": "code",
   "execution_count": 43,
   "metadata": {},
   "outputs": [],
   "source": [
    "nc_ratio = compute_nc_ratio(\"test.txt\")\n",
    "output_nc_ratio(\"test.out\", nc_ratio)"
   ]
  },
  {
   "cell_type": "code",
   "execution_count": 41,
   "metadata": {},
   "outputs": [
    {
     "data": {
      "text/plain": [
       "array([[0.   , 1.   ],\n",
       "       [1.   , 0.375],\n",
       "       [2.   , 0.5  ],\n",
       "       [3.   , 0.5  ],\n",
       "       [4.   , 1.   ]])"
      ]
     },
     "execution_count": 41,
     "metadata": {},
     "output_type": "execute_result"
    }
   ],
   "source": [
    "nc_ratio"
   ]
  },
  {
   "cell_type": "code",
   "execution_count": null,
   "metadata": {},
   "outputs": [],
   "source": []
  }
 ],
 "metadata": {
  "kernelspec": {
   "display_name": "Python 3",
   "language": "python",
   "name": "python3"
  },
  "language_info": {
   "codemirror_mode": {
    "name": "ipython",
    "version": 3
   },
   "file_extension": ".py",
   "mimetype": "text/x-python",
   "name": "python",
   "nbconvert_exporter": "python",
   "pygments_lexer": "ipython3",
   "version": "3.8.3"
  }
 },
 "nbformat": 4,
 "nbformat_minor": 4
}
